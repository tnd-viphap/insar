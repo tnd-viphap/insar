{
 "cells": [
  {
   "cell_type": "markdown",
   "metadata": {},
   "source": [
    "## **Plot**"
   ]
  },
  {
   "cell_type": "code",
   "execution_count": 12,
   "metadata": {},
   "outputs": [],
   "source": [
    "import scipy.io as sio\n",
    "import numpy as np\n",
    "import matplotlib.pyplot as plt"
   ]
  },
  {
   "cell_type": "code",
   "execution_count": 66,
   "metadata": {},
   "outputs": [],
   "source": [
    "with open(\"results/INSAR_20200909_PSDS_v3/PATCH_1/pscands.1.ll\", \"r\") as f:\n",
    "    ll = np.loadtxt(f)\n"
   ]
  },
  {
   "cell_type": "code",
   "execution_count": null,
   "metadata": {},
   "outputs": [],
   "source": [
    "# Plot the lon/lat points\n",
    "plt.figure(figsize=(20,10))\n",
    "plt.scatter(ll[:,0], ll[:,1], s=1, alpha=0.5)\n",
    "plt.xlabel('Longitude')\n",
    "plt.ylabel('Latitude')\n",
    "plt.title('PS Candidate Locations')\n",
    "plt.grid(True)\n",
    "plt.show()\n",
    "\n",
    "# Split into lon/lat arrays for later use\n",
    "lon = ll[:,0] \n",
    "lat = ll[:,1]\n"
   ]
  },
  {
   "cell_type": "code",
   "execution_count": 70,
   "metadata": {},
   "outputs": [],
   "source": [
    "pm1 = sio.loadmat(\"results/INSAR_20200909_PSDS_v3/PATCH_1/pm1.mat\")\n",
    "ps2 = sio.loadmat(\"results/INSAR_20200909_PSDS_v3/ph2.mat\")\n",
    "ij = ps2['ps']['ij'][0][0].astype(int)\n",
    "lonlat = ps2['ps']['lonlat'][0][0]\n",
    "selected_ph = pm1['ph_patch'][ij[:, 0], :]\n"
   ]
  },
  {
   "cell_type": "code",
   "execution_count": 21,
   "metadata": {},
   "outputs": [],
   "source": [
    "ph2 = sio.loadmat(\"results/INSAR_20200909_PSDS_v3/ph2.mat\")\n",
    "ps2 = ps2 = sio.loadmat(\"results/INSAR_20200909_PSDS_v3/ps2.mat\")\n",
    "ij = ps2['ij'].astype(int) - 1\n",
    "lonlat = ps2['lonlat']\n",
    "selected_ph = ph2['ph'][ij[:, 0], :]"
   ]
  },
  {
   "cell_type": "code",
   "execution_count": null,
   "metadata": {},
   "outputs": [],
   "source": []
  },
  {
   "cell_type": "code",
   "execution_count": null,
   "metadata": {},
   "outputs": [],
   "source": [
    "# Plot selected phase values at their pixel locations\n",
    "plt.figure(figsize=(20,12))\n",
    "\n",
    "# Use viridis colormap with increased point size and alpha\n",
    "plt.scatter(lonlat[:, 0], lonlat[:, 1], \n",
    "           c=np.angle(selected_ph[:,0]),\n",
    "           cmap='viridis', \n",
    "           s=1,  # Increased marker size\n",
    "           alpha=0.7)  # Increased opacity\n",
    "\n",
    "# Add a more visible colorbar\n",
    "cbar = plt.colorbar(label='Phase (rad)')\n",
    "cbar.ax.tick_params(labelsize=12)\n",
    "\n",
    "# Enhance axis labels and title\n",
    "plt.xlabel('Range pixel', fontsize=14)\n",
    "plt.ylabel('Azimuth pixel', fontsize=14)\n",
    "plt.title('Selected Phase Values at Pixel Locations', fontsize=16, pad=15)\n",
    "\n",
    "# Add grid for better readability\n",
    "plt.grid(True, alpha=0.3)\n",
    "\n",
    "plt.show()\n",
    "\n"
   ]
  },
  {
   "cell_type": "code",
   "execution_count": null,
   "metadata": {},
   "outputs": [],
   "source": [
    "# Get number of interferograms\n",
    "n_ifg = pm1['ph_patch'].shape[1]\n",
    "\n",
    "# Create subplot grid\n",
    "n_rows = int(np.ceil(np.sqrt(n_ifg)))\n",
    "n_cols = int(np.ceil(n_ifg / n_rows))\n",
    "\n",
    "plt.figure(figsize=(4*n_cols, 4*n_rows))\n",
    "\n",
    "# Plot phase for each interferogram\n",
    "for i in range(n_ifg):\n",
    "    plt.subplot(n_rows, n_cols, i+1)\n",
    "    plt.imshow(np.angle(pm1['ph_patch'][:,i]).reshape(-1,1), aspect='auto', cmap='hsv')\n",
    "    plt.colorbar(label='Phase (rad)')\n",
    "    plt.title(f'Interferogram {i+1}')\n",
    "    plt.xlabel('PS Point')\n",
    "\n",
    "plt.tight_layout()\n",
    "plt.show()\n"
   ]
  },
  {
   "cell_type": "markdown",
   "metadata": {},
   "source": [
    "## **Data**"
   ]
  },
  {
   "cell_type": "code",
   "execution_count": 1,
   "metadata": {},
   "outputs": [],
   "source": [
    "import numpy as np\n",
    "from modules.tomo.input_parm import Input"
   ]
  },
  {
   "cell_type": "code",
   "execution_count": null,
   "metadata": {},
   "outputs": [],
   "source": [
    "filepath = \"results/INSAR_20200909_PSDS_v3/diff0/20200909_20200723.psds\"\n",
    "with open(filepath, \"rb\") as f:\n",
    "    data = np.fromfile(f, dtype=np.complex64)\n",
    "data.reshape((401, 2117))\n",
    "data\n"
   ]
  },
  {
   "cell_type": "code",
   "execution_count": 16,
   "metadata": {},
   "outputs": [],
   "source": [
    "filepath = \"results/INSAR_20200909_PSDS_v3/shp.npz\"\n",
    "shp_data = np.load(filepath, allow_pickle=True)['shp'].item()['patches']"
   ]
  },
  {
   "cell_type": "code",
   "execution_count": null,
   "metadata": {},
   "outputs": [],
   "source": [
    "for idx, item in enumerate(shp_data):\n",
    "    print(f'{idx}: {item[\"BroNum\"].shape}')"
   ]
  },
  {
   "cell_type": "code",
   "execution_count": null,
   "metadata": {},
   "outputs": [],
   "source": [
    "slc, interf = Input([7, 25], output=False).run()"
   ]
  },
  {
   "cell_type": "code",
   "execution_count": null,
   "metadata": {},
   "outputs": [],
   "source": [
    "slc['datastack'][0]['datastack'].shape"
   ]
  },
  {
   "cell_type": "code",
   "execution_count": null,
   "metadata": {},
   "outputs": [],
   "source": [
    "filepath = \"results/INSAR_20200909_PSDS_v3/coherence.npz\"\n",
    "coherence_data = np.load(filepath, allow_pickle=True)['coherence']\n",
    "\n",
    "for idx, item in enumerate(coherence_data):\n",
    "    print(f'{idx}: {item[\"coherence\"].shape}')\n",
    "\n",
    "\n",
    "\n",
    "\n",
    "\n",
    "\n"
   ]
  },
  {
   "cell_type": "code",
   "execution_count": 1,
   "metadata": {},
   "outputs": [],
   "source": [
    "from config._0_engage import Initialize\n",
    "import os"
   ]
  },
  {
   "cell_type": "code",
   "execution_count": 2,
   "metadata": {},
   "outputs": [],
   "source": [
    "try:\n",
    "    bbox = [106.6969, 10.7615, 106.7275, 10.7945]\n",
    "    init = Initialize(bbox, \"DESCENDING\", 540, project_name=\"default\")\n",
    "except Exception as e:\n",
    "    print(f\"Engage project structure fails due to\\n{e}\\n\")"
   ]
  },
  {
   "cell_type": "code",
   "execution_count": 3,
   "metadata": {},
   "outputs": [
    {
     "data": {
      "text/plain": [
       "{'project_definition': {'project_folder': 'D:/projects/insar/config',\n",
       "  'graphs_folder': 'D:/projects/insar/config/modules/snap2stamps/graphs/',\n",
       "  'log_folder': 'D:/projects/insar/config/logs/',\n",
       "  'data_folder': 'D:/projects/insar/config/data/',\n",
       "  'master_folder': 'D:/projects/insar/config/data/master/',\n",
       "  'slaves_folder': 'D:/projects/insar/config/data/slaves/',\n",
       "  'raw_data_folder': 'D:/projects/insar/config/data/raw/',\n",
       "  'coreg_folder': 'D:/projects/insar/config/process/coreg/',\n",
       "  'ifg_folder': 'D:/projects/insar/config/process/ifg/',\n",
       "  'stamp_folder': 'D:/projects/insar/config/results/',\n",
       "  'config_path': 'D:/projects/insar/config/modules/snap2stamps/bin/project.conf'},\n",
       " 'cache_files': {'download_cache': 'D:/projects/insar/config/data/download_cache.txt',\n",
       "  'broken_cache': 'D:/projects/insar/config/data/broken_cache.txt',\n",
       "  'baseline_cache': 'D:/projects/insar/config/data/baseline_cache.txt'},\n",
       " 'search_parameters': {'datalake': 'D:/projects/insar/config/data/lake.json',\n",
       "  'direction': 'DESCENDING',\n",
       "  'frame': 540},\n",
       " 'processing_parameters': {'iw1': 'IW1',\n",
       "  'first_burst': 5,\n",
       "  'last_burst': 5,\n",
       "  'old_master': None,\n",
       "  'max_perp': 150.0,\n",
       "  'da_threshold': 0.4,\n",
       "  'reest_flag': 1,\n",
       "  'current_result': None,\n",
       "  'ministack': 5,\n",
       "  'unified': 0,\n",
       "  'ptype': None},\n",
       " 'aoi_bbox': {'lon_min': 106.6969,\n",
       "  'lat_min': 10.7615,\n",
       "  'lon_max': 106.7275,\n",
       "  'lat_max': 10.7945},\n",
       " 'snap_gpt': {'gptbin_path': 'C:/Program Files/snap/bin/gpt.exe'},\n",
       " 'api_flags': {'comsar': 0},\n",
       " 'gnss': {'remote_gnssfile': 'C:/Users/ViphapCom2/Documents/GNSS_Viphap/gnss/data/output.csv',\n",
       "  'server_name': 'ViphapCom2',\n",
       "  'server_ip': '192.168.101.100',\n",
       "  'nrovers': 2},\n",
       " 'computing_resources': {'cpu': 13, 'cache': '24G'}}"
      ]
     },
     "execution_count": 3,
     "metadata": {},
     "output_type": "execute_result"
    }
   ],
   "source": [
    "init.config_parser.get_project_config(\"default\")"
   ]
  },
  {
   "cell_type": "code",
   "execution_count": 9,
   "metadata": {},
   "outputs": [],
   "source": [
    "import pandas as pd\n",
    "import numpy as np"
   ]
  },
  {
   "cell_type": "code",
   "execution_count": 3,
   "metadata": {},
   "outputs": [],
   "source": [
    "data = pd.read_csv(r\"data\\geom\\INSAR_20250110_PSDS_v9_PATCH_1_cr.csv\")"
   ]
  },
  {
   "cell_type": "code",
   "execution_count": 14,
   "metadata": {},
   "outputs": [
    {
     "name": "stdout",
     "output_type": "stream",
     "text": [
      "93290\n"
     ]
    }
   ],
   "source": [
    "vlos_values = data['VLOS']\n",
    "vlos_values = vlos_values[~vlos_values.isnull()]\n",
    "print(len(vlos_values))"
   ]
  }
 ],
 "metadata": {
  "kernelspec": {
   "display_name": "insar",
   "language": "python",
   "name": "python3"
  },
  "language_info": {
   "codemirror_mode": {
    "name": "ipython",
    "version": 3
   },
   "file_extension": ".py",
   "mimetype": "text/x-python",
   "name": "python",
   "nbconvert_exporter": "python",
   "pygments_lexer": "ipython3",
   "version": "3.11.13"
  }
 },
 "nbformat": 4,
 "nbformat_minor": 2
}
