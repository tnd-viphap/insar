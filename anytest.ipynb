{
 "cells": [
  {
   "cell_type": "code",
   "execution_count": 1,
   "metadata": {},
   "outputs": [],
   "source": [
    "from dev.stamps.flow import StaMPSStep\n",
    "from modules.tomo.ps_parms import Parms\n",
    "import numpy as np"
   ]
  },
  {
   "cell_type": "code",
   "execution_count": 2,
   "metadata": {},
   "outputs": [],
   "source": [
    "project_conf = \"modules/snap2stamps/bin/project.conf\"\n",
    "parms = Parms(project_conf)\n",
    "parms.load()\n",
    "steps = StaMPSStep(parms)\n"
   ]
  },
  {
   "cell_type": "code",
   "execution_count": 3,
   "metadata": {},
   "outputs": [],
   "source": [
    "steps.run(1, 1)"
   ]
  },
  {
   "cell_type": "code",
   "execution_count": 4,
   "metadata": {},
   "outputs": [
    {
     "name": "stderr",
     "output_type": "stream",
     "text": [
      "Could not open modules/snap2stamps/bin/project.conf\n",
      "Could not open modules/snap2stamps/bin/project.conf\n"
     ]
    },
    {
     "name": "stdout",
     "output_type": "stream",
     "text": [
      "-> Found look angle file\n",
      "-> Initialising random distribution...\n"
     ]
    },
    {
     "name": "stderr",
     "output_type": "stream",
     "text": [
      "   -> Estimating coherence of random phase pixels: 100%|██████████| 357432/357432 [00:26<00:00, 13417.74pixels/s]\n"
     ]
    },
    {
     "name": "stdout",
     "output_type": "stream",
     "text": [
      "   -> 357432 PS candidates to process\n",
      "   -> Iteration #1\n",
      "   -> Calculating patch phases...\n"
     ]
    },
    {
     "ename": "ValueError",
     "evalue": "operands could not be broadcast together with shapes (357432,5) (357432,4) ",
     "output_type": "error",
     "traceback": [
      "\u001b[31m---------------------------------------------------------------------------\u001b[39m",
      "\u001b[31mValueError\u001b[39m                                Traceback (most recent call last)",
      "\u001b[36mCell\u001b[39m\u001b[36m \u001b[39m\u001b[32mIn[4]\u001b[39m\u001b[32m, line 1\u001b[39m\n\u001b[32m----> \u001b[39m\u001b[32m1\u001b[39m \u001b[43msteps\u001b[49m\u001b[43m.\u001b[49m\u001b[43mrun\u001b[49m\u001b[43m(\u001b[49m\u001b[32;43m2\u001b[39;49m\u001b[43m,\u001b[49m\u001b[32;43m2\u001b[39;49m\u001b[43m)\u001b[49m\n",
      "\u001b[36mFile \u001b[39m\u001b[32md:\\VIPHAP\\insar\\dev\\stamps\\flow.py:1035\u001b[39m, in \u001b[36mStaMPSStep.run\u001b[39m\u001b[34m(self, start_step, end_step, patches_flag)\u001b[39m\n\u001b[32m   1032\u001b[39m         \u001b[38;5;28mprint\u001b[39m(\u001b[33mf\u001b[39m\u001b[33m\"\u001b[39m\u001b[33m   -> \u001b[39m\u001b[38;5;132;01m{\u001b[39;00mpatch_dir\u001b[38;5;132;01m}\u001b[39;00m\u001b[33m: complete up to stage \u001b[39m\u001b[38;5;132;01m{\u001b[39;00m\u001b[38;5;28mself\u001b[39m.start_step\u001b[38;5;250m \u001b[39m-\u001b[38;5;250m \u001b[39m\u001b[32m1\u001b[39m\u001b[38;5;132;01m}\u001b[39;00m\u001b[33m\"\u001b[39m)\n\u001b[32m   1034\u001b[39m \u001b[38;5;28;01mfor\u001b[39;00m step \u001b[38;5;129;01min\u001b[39;00m \u001b[38;5;28mrange\u001b[39m(\u001b[38;5;28mself\u001b[39m.start_step, \u001b[38;5;28mself\u001b[39m.end_step + \u001b[32m1\u001b[39m):\n\u001b[32m-> \u001b[39m\u001b[32m1035\u001b[39m     \u001b[38;5;28;43mself\u001b[39;49m\u001b[43m.\u001b[49m\u001b[43mcontrol_flow\u001b[49m\u001b[43m[\u001b[49m\u001b[43mstep\u001b[49m\u001b[43m]\u001b[49m\u001b[43m(\u001b[49m\u001b[43m)\u001b[49m\n\u001b[32m   1037\u001b[39m \u001b[38;5;28;01mif\u001b[39;00m patch_dir != \u001b[33m'\u001b[39m\u001b[33m.\u001b[39m\u001b[33m'\u001b[39m:\n\u001b[32m   1038\u001b[39m     os.chdir(\u001b[33m'\u001b[39m\u001b[33m..\u001b[39m\u001b[33m'\u001b[39m)\n",
      "\u001b[36mFile \u001b[39m\u001b[32md:\\VIPHAP\\insar\\dev\\stamps\\flow.py:48\u001b[39m, in \u001b[36mStaMPSStep.__init__.<locals>.<lambda>\u001b[39m\u001b[34m()\u001b[39m\n\u001b[32m     43\u001b[39m \u001b[38;5;28;01mif\u001b[39;00m \u001b[38;5;28mself\u001b[39m.stamps_PART_limitation == \u001b[32m2\u001b[39m:\n\u001b[32m     44\u001b[39m     \u001b[38;5;28mself\u001b[39m.stamps_PART1_flag = \u001b[38;5;28;01mFalse\u001b[39;00m\n\u001b[32m     46\u001b[39m \u001b[38;5;28mself\u001b[39m.control_flow = {\n\u001b[32m     47\u001b[39m     \u001b[32m1\u001b[39m: \u001b[38;5;28;01mlambda\u001b[39;00m: \u001b[38;5;28mself\u001b[39m._stamps_1(),\n\u001b[32m---> \u001b[39m\u001b[32m48\u001b[39m     \u001b[32m2\u001b[39m: \u001b[38;5;28;01mlambda\u001b[39;00m: \u001b[38;5;28;43mself\u001b[39;49m\u001b[43m.\u001b[49m\u001b[43m_stamps_2\u001b[49m\u001b[43m(\u001b[49m\u001b[43m)\u001b[49m,\n\u001b[32m     49\u001b[39m     \u001b[32m3\u001b[39m: \u001b[38;5;28;01mlambda\u001b[39;00m: \u001b[38;5;28mself\u001b[39m._stamps_3(),\n\u001b[32m     50\u001b[39m     \u001b[32m4\u001b[39m: \u001b[38;5;28;01mlambda\u001b[39;00m: \u001b[38;5;28mself\u001b[39m._stamps_4(),\n\u001b[32m     51\u001b[39m     \u001b[32m5\u001b[39m: \u001b[38;5;28;01mlambda\u001b[39;00m: \u001b[38;5;28mself\u001b[39m._stamps_5(),\n\u001b[32m     52\u001b[39m     \u001b[32m6\u001b[39m: \u001b[38;5;28;01mlambda\u001b[39;00m: \u001b[38;5;28mself\u001b[39m._stamps_6(),\n\u001b[32m     53\u001b[39m     \u001b[32m7\u001b[39m: \u001b[38;5;28;01mlambda\u001b[39;00m: \u001b[38;5;28mself\u001b[39m._stamps_7(),\n\u001b[32m     54\u001b[39m     \u001b[32m8\u001b[39m: \u001b[38;5;28;01mlambda\u001b[39;00m: \u001b[38;5;28mself\u001b[39m._stamps_8(),\n\u001b[32m     55\u001b[39m }\n\u001b[32m     57\u001b[39m \u001b[38;5;28mself\u001b[39m.quick_est_gamma_flag = \u001b[38;5;28mself\u001b[39m.parms.get(\u001b[33m'\u001b[39m\u001b[33mquick_est_gamma_flag\u001b[39m\u001b[33m'\u001b[39m)\n\u001b[32m     58\u001b[39m \u001b[38;5;28mself\u001b[39m.reest_gamma_flag = \u001b[38;5;28mself\u001b[39m.parms.get(\u001b[33m'\u001b[39m\u001b[33mselect_reest_gamma_flag\u001b[39m\u001b[33m'\u001b[39m)\n",
      "\u001b[36mFile \u001b[39m\u001b[32md:\\VIPHAP\\insar\\dev\\stamps\\flow.py:891\u001b[39m, in \u001b[36mStaMPSStep._stamps_2\u001b[39m\u001b[34m(self)\u001b[39m\n\u001b[32m    889\u001b[39m \u001b[38;5;28;01mif\u001b[39;00m \u001b[38;5;28mself\u001b[39m.stamps_step_no_ps[\u001b[32m0\u001b[39m] == \u001b[32m0\u001b[39m:\n\u001b[32m    890\u001b[39m     \u001b[38;5;28;01mif\u001b[39;00m \u001b[38;5;28mself\u001b[39m.quick_est_gamma_flag == \u001b[33m'\u001b[39m\u001b[33my\u001b[39m\u001b[33m'\u001b[39m:\n\u001b[32m--> \u001b[39m\u001b[32m891\u001b[39m         \u001b[38;5;28;43mself\u001b[39;49m\u001b[43m.\u001b[49m\u001b[43m_ps_est_gamma_quick\u001b[49m\u001b[43m(\u001b[49m\u001b[38;5;28;43mself\u001b[39;49m\u001b[43m.\u001b[49m\u001b[43mest_gamma_flag\u001b[49m\u001b[43m)\u001b[49m\n\u001b[32m    892\u001b[39m     \u001b[38;5;28;01melse\u001b[39;00m:\n\u001b[32m    893\u001b[39m         \u001b[38;5;28mself\u001b[39m._ps_est_gamma(\u001b[38;5;28mself\u001b[39m.est_gamma_flag)\n",
      "\u001b[36mFile \u001b[39m\u001b[32md:\\VIPHAP\\insar\\dev\\stamps\\flow.py:711\u001b[39m, in \u001b[36mStaMPSStep._ps_est_gamma_quick\u001b[39m\u001b[34m(self, est_gamma_parm)\u001b[39m\n\u001b[32m    709\u001b[39m ph_grid = np.zeros((\u001b[38;5;28mint\u001b[39m(n_i), \u001b[38;5;28mint\u001b[39m(n_j), \u001b[38;5;28mint\u001b[39m(n_ifg)), dtype=np.float64)\n\u001b[32m    710\u001b[39m ph_filt = ph_grid.copy()\n\u001b[32m--> \u001b[39m\u001b[32m711\u001b[39m ph_weight = \u001b[43mph\u001b[49m\u001b[43m \u001b[49m\u001b[43m*\u001b[49m\u001b[43m \u001b[49m\u001b[43mnp\u001b[49m\u001b[43m.\u001b[49m\u001b[43mexp\u001b[49m\u001b[43m(\u001b[49m\u001b[43m-\u001b[49m\u001b[32;43m1\u001b[39;49m\u001b[43mj\u001b[49m\u001b[43m \u001b[49m\u001b[43m*\u001b[49m\u001b[43m \u001b[49m\u001b[43mbp\u001b[49m\u001b[43m[\u001b[49m\u001b[33;43m'\u001b[39;49m\u001b[33;43mbperp_mat\u001b[39;49m\u001b[33;43m'\u001b[39;49m\u001b[43m]\u001b[49m\u001b[43m \u001b[49m\u001b[43m*\u001b[49m\u001b[43m \u001b[49m\u001b[43mK_ps\u001b[49m\u001b[43m.\u001b[49m\u001b[43mreshape\u001b[49m\u001b[43m(\u001b[49m\u001b[43m-\u001b[49m\u001b[32;43m1\u001b[39;49m\u001b[43m,\u001b[49m\u001b[43m \u001b[49m\u001b[32;43m1\u001b[39;49m\u001b[43m)\u001b[49m\u001b[43m)\u001b[49m * weighting.reshape(-\u001b[32m1\u001b[39m, \u001b[32m1\u001b[39m)\n\u001b[32m    713\u001b[39m \u001b[38;5;28;01mfor\u001b[39;00m i \u001b[38;5;129;01min\u001b[39;00m \u001b[38;5;28mrange\u001b[39m(n_ps):\n\u001b[32m    714\u001b[39m     ph_grid[grid_ij[i, \u001b[32m0\u001b[39m]-\u001b[32m1\u001b[39m, grid_ij[i, \u001b[32m1\u001b[39m]-\u001b[32m1\u001b[39m, :] += ph_weight[i, :]\n",
      "\u001b[31mValueError\u001b[39m: operands could not be broadcast together with shapes (357432,5) (357432,4) "
     ]
    }
   ],
   "source": [
    "steps.run(2,2)"
   ]
  }
 ],
 "metadata": {
  "kernelspec": {
   "display_name": "insar",
   "language": "python",
   "name": "python3"
  },
  "language_info": {
   "codemirror_mode": {
    "name": "ipython",
    "version": 3
   },
   "file_extension": ".py",
   "mimetype": "text/x-python",
   "name": "python",
   "nbconvert_exporter": "python",
   "pygments_lexer": "ipython3",
   "version": "3.11.11"
  }
 },
 "nbformat": 4,
 "nbformat_minor": 2
}
